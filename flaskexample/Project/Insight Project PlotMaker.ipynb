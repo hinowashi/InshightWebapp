{
 "cells": [
  {
   "cell_type": "code",
   "execution_count": 1,
   "metadata": {},
   "outputs": [],
   "source": [
    "import numpy as np\n",
    "import geopandas as gpd\n",
    "import pickle\n",
    "import googlemaps\n",
    "import pandas as pd\n",
    "import psycopg2\n",
    "\n",
    "from sqlalchemy import create_engine\n",
    "from sqlalchemy_utils import database_exists, create_database\n",
    "\n",
    "import matplotlib.pyplot as plt\n",
    "# import matplotlib.patches as mpatches\n",
    "# import matplotlib\n",
    "# from mpl_toolkits.axes_grid1 import make_axes_locatable\n",
    "\n",
    "import SetCover\n",
    "import DBScaner\n",
    "import Definition\n",
    "import Itinerary\n",
    "\n",
    "def save_fig(name):\n",
    "    fig.savefig(name,dpi=80,bbox_inches='tight', pad_inches=0.02, format = 'png')\n",
    "\n",
    "%matplotlib inline"
   ]
  },
  {
   "cell_type": "markdown",
   "metadata": {},
   "source": [
    "### The ebird Data\n",
    "\n",
    "The bird data has been trasnform to a Postgres SQL database.  This section of the code reads form this database to do the calculations. "
   ]
  },
  {
   "cell_type": "code",
   "execution_count": 7,
   "metadata": {},
   "outputs": [
    {
     "name": "stderr",
     "output_type": "stream",
     "text": [
      "/Users/casanova/miniconda3/envs/insight/lib/python3.8/site-packages/IPython/core/interactiveshell.py:3062: DtypeWarning: Columns (43) have mixed types.Specify dtype option on import or set low_memory=False.\n",
      "  has_raised = await self.run_ast_nodes(code_ast.body, cell_name,\n"
     ]
    }
   ],
   "source": [
    "dfAll = pd.read_csv('../../../ebd_US-WI_201801_201912_relApr-2020/ebd_US-WI_201801_201912_relApr-2020.txt'\n",
    "                ,delimiter=\"\\t\")"
   ]
  },
  {
   "cell_type": "code",
   "execution_count": 9,
   "metadata": {},
   "outputs": [
    {
     "data": {
      "text/html": [
       "<div>\n",
       "<style scoped>\n",
       "    .dataframe tbody tr th:only-of-type {\n",
       "        vertical-align: middle;\n",
       "    }\n",
       "\n",
       "    .dataframe tbody tr th {\n",
       "        vertical-align: top;\n",
       "    }\n",
       "\n",
       "    .dataframe thead th {\n",
       "        text-align: right;\n",
       "    }\n",
       "</style>\n",
       "<table border=\"1\" class=\"dataframe\">\n",
       "  <thead>\n",
       "    <tr style=\"text-align: right;\">\n",
       "      <th></th>\n",
       "      <th>GLOBAL UNIQUE IDENTIFIER</th>\n",
       "      <th>LAST EDITED DATE</th>\n",
       "      <th>TAXONOMIC ORDER</th>\n",
       "      <th>CATEGORY</th>\n",
       "      <th>COMMON NAME</th>\n",
       "      <th>SCIENTIFIC NAME</th>\n",
       "      <th>SUBSPECIES COMMON NAME</th>\n",
       "      <th>SUBSPECIES SCIENTIFIC NAME</th>\n",
       "      <th>OBSERVATION COUNT</th>\n",
       "      <th>BREEDING BIRD ATLAS CODE</th>\n",
       "      <th>...</th>\n",
       "      <th>NUMBER OBSERVERS</th>\n",
       "      <th>ALL SPECIES REPORTED</th>\n",
       "      <th>GROUP IDENTIFIER</th>\n",
       "      <th>HAS MEDIA</th>\n",
       "      <th>APPROVED</th>\n",
       "      <th>REVIEWED</th>\n",
       "      <th>REASON</th>\n",
       "      <th>TRIP COMMENTS</th>\n",
       "      <th>SPECIES COMMENTS</th>\n",
       "      <th>Unnamed: 46</th>\n",
       "    </tr>\n",
       "  </thead>\n",
       "  <tbody>\n",
       "    <tr>\n",
       "      <th>0</th>\n",
       "      <td>URN:CornellLabOfOrnithology:EBIRD:OBS562728250</td>\n",
       "      <td>2019-03-17 19:01:35</td>\n",
       "      <td>31254</td>\n",
       "      <td>species</td>\n",
       "      <td>Common Redpoll</td>\n",
       "      <td>Acanthis flammea</td>\n",
       "      <td>NaN</td>\n",
       "      <td>NaN</td>\n",
       "      <td>25</td>\n",
       "      <td>NaN</td>\n",
       "      <td>...</td>\n",
       "      <td>2.0</td>\n",
       "      <td>1</td>\n",
       "      <td>G2858841</td>\n",
       "      <td>0</td>\n",
       "      <td>1</td>\n",
       "      <td>1</td>\n",
       "      <td>NaN</td>\n",
       "      <td>NaN</td>\n",
       "      <td>NaN</td>\n",
       "      <td>NaN</td>\n",
       "    </tr>\n",
       "    <tr>\n",
       "      <th>1</th>\n",
       "      <td>URN:CornellLabOfOrnithology:EBIRD:OBS588703980</td>\n",
       "      <td>2019-03-17 19:25:37</td>\n",
       "      <td>31254</td>\n",
       "      <td>species</td>\n",
       "      <td>Common Redpoll</td>\n",
       "      <td>Acanthis flammea</td>\n",
       "      <td>NaN</td>\n",
       "      <td>NaN</td>\n",
       "      <td>10</td>\n",
       "      <td>NaN</td>\n",
       "      <td>...</td>\n",
       "      <td>1.0</td>\n",
       "      <td>1</td>\n",
       "      <td>NaN</td>\n",
       "      <td>0</td>\n",
       "      <td>1</td>\n",
       "      <td>1</td>\n",
       "      <td>NaN</td>\n",
       "      <td>NaN</td>\n",
       "      <td>NaN</td>\n",
       "      <td>NaN</td>\n",
       "    </tr>\n",
       "    <tr>\n",
       "      <th>2</th>\n",
       "      <td>URN:CornellLabOfOrnithology:EBIRD:OBS586958003</td>\n",
       "      <td>2018-03-12 23:42:55</td>\n",
       "      <td>8012</td>\n",
       "      <td>issf</td>\n",
       "      <td>Red-tailed Hawk</td>\n",
       "      <td>Buteo jamaicensis</td>\n",
       "      <td>Red-tailed Hawk (calurus/alascensis)</td>\n",
       "      <td>Buteo jamaicensis calurus/alascensis</td>\n",
       "      <td>1</td>\n",
       "      <td>NaN</td>\n",
       "      <td>...</td>\n",
       "      <td>2.0</td>\n",
       "      <td>0</td>\n",
       "      <td>NaN</td>\n",
       "      <td>1</td>\n",
       "      <td>1</td>\n",
       "      <td>1</td>\n",
       "      <td>NaN</td>\n",
       "      <td>NaN</td>\n",
       "      <td>Very dark when perched, similar to a dark-morp...</td>\n",
       "      <td>NaN</td>\n",
       "    </tr>\n",
       "    <tr>\n",
       "      <th>3</th>\n",
       "      <td>URN:CornellLabOfOrnithology:EBIRD:OBS628979112</td>\n",
       "      <td>2018-08-07 03:24:03</td>\n",
       "      <td>18416</td>\n",
       "      <td>species</td>\n",
       "      <td>Red-eyed Vireo</td>\n",
       "      <td>Vireo olivaceus</td>\n",
       "      <td>NaN</td>\n",
       "      <td>NaN</td>\n",
       "      <td>6</td>\n",
       "      <td>P</td>\n",
       "      <td>...</td>\n",
       "      <td>21.0</td>\n",
       "      <td>1</td>\n",
       "      <td>G3267530</td>\n",
       "      <td>0</td>\n",
       "      <td>1</td>\n",
       "      <td>0</td>\n",
       "      <td>NaN</td>\n",
       "      <td>65F, sky&amp;#61;1, 1 staff, 19 adult volunteers</td>\n",
       "      <td>NaN</td>\n",
       "      <td>NaN</td>\n",
       "    </tr>\n",
       "    <tr>\n",
       "      <th>4</th>\n",
       "      <td>URN:CornellLabOfOrnithology:EBIRD:OBS646834396</td>\n",
       "      <td>2018-08-16 14:45:12</td>\n",
       "      <td>31361</td>\n",
       "      <td>species</td>\n",
       "      <td>Pine Siskin</td>\n",
       "      <td>Spinus pinus</td>\n",
       "      <td>NaN</td>\n",
       "      <td>NaN</td>\n",
       "      <td>1</td>\n",
       "      <td>NaN</td>\n",
       "      <td>...</td>\n",
       "      <td>1.0</td>\n",
       "      <td>1</td>\n",
       "      <td>NaN</td>\n",
       "      <td>0</td>\n",
       "      <td>1</td>\n",
       "      <td>1</td>\n",
       "      <td>NaN</td>\n",
       "      <td>NaN</td>\n",
       "      <td>Smaller and more striped than a house finch. S...</td>\n",
       "      <td>NaN</td>\n",
       "    </tr>\n",
       "  </tbody>\n",
       "</table>\n",
       "<p>5 rows × 47 columns</p>\n",
       "</div>"
      ],
      "text/plain": [
       "                         GLOBAL UNIQUE IDENTIFIER     LAST EDITED DATE  \\\n",
       "0  URN:CornellLabOfOrnithology:EBIRD:OBS562728250  2019-03-17 19:01:35   \n",
       "1  URN:CornellLabOfOrnithology:EBIRD:OBS588703980  2019-03-17 19:25:37   \n",
       "2  URN:CornellLabOfOrnithology:EBIRD:OBS586958003  2018-03-12 23:42:55   \n",
       "3  URN:CornellLabOfOrnithology:EBIRD:OBS628979112  2018-08-07 03:24:03   \n",
       "4  URN:CornellLabOfOrnithology:EBIRD:OBS646834396  2018-08-16 14:45:12   \n",
       "\n",
       "   TAXONOMIC ORDER CATEGORY      COMMON NAME    SCIENTIFIC NAME  \\\n",
       "0            31254  species   Common Redpoll   Acanthis flammea   \n",
       "1            31254  species   Common Redpoll   Acanthis flammea   \n",
       "2             8012     issf  Red-tailed Hawk  Buteo jamaicensis   \n",
       "3            18416  species   Red-eyed Vireo    Vireo olivaceus   \n",
       "4            31361  species      Pine Siskin       Spinus pinus   \n",
       "\n",
       "                 SUBSPECIES COMMON NAME            SUBSPECIES SCIENTIFIC NAME  \\\n",
       "0                                   NaN                                   NaN   \n",
       "1                                   NaN                                   NaN   \n",
       "2  Red-tailed Hawk (calurus/alascensis)  Buteo jamaicensis calurus/alascensis   \n",
       "3                                   NaN                                   NaN   \n",
       "4                                   NaN                                   NaN   \n",
       "\n",
       "  OBSERVATION COUNT BREEDING BIRD ATLAS CODE  ... NUMBER OBSERVERS  \\\n",
       "0                25                      NaN  ...              2.0   \n",
       "1                10                      NaN  ...              1.0   \n",
       "2                 1                      NaN  ...              2.0   \n",
       "3                 6                       P   ...             21.0   \n",
       "4                 1                      NaN  ...              1.0   \n",
       "\n",
       "  ALL SPECIES REPORTED GROUP IDENTIFIER HAS MEDIA APPROVED REVIEWED REASON  \\\n",
       "0                    1         G2858841         0        1        1    NaN   \n",
       "1                    1              NaN         0        1        1    NaN   \n",
       "2                    0              NaN         1        1        1    NaN   \n",
       "3                    1         G3267530         0        1        0    NaN   \n",
       "4                    1              NaN         0        1        1    NaN   \n",
       "\n",
       "                                  TRIP COMMENTS  \\\n",
       "0                                           NaN   \n",
       "1                                           NaN   \n",
       "2                                           NaN   \n",
       "3  65F, sky&#61;1, 1 staff, 19 adult volunteers   \n",
       "4                                           NaN   \n",
       "\n",
       "                                    SPECIES COMMENTS  Unnamed: 46  \n",
       "0                                                NaN          NaN  \n",
       "1                                                NaN          NaN  \n",
       "2  Very dark when perched, similar to a dark-morp...          NaN  \n",
       "3                                                NaN          NaN  \n",
       "4  Smaller and more striped than a house finch. S...          NaN  \n",
       "\n",
       "[5 rows x 47 columns]"
      ]
     },
     "execution_count": 9,
     "metadata": {},
     "output_type": "execute_result"
    }
   ],
   "source": [
    "dfAll.head(5)"
   ]
  },
  {
   "cell_type": "code",
   "execution_count": 10,
   "metadata": {},
   "outputs": [
    {
     "data": {
      "text/plain": [
       "Index(['GLOBAL UNIQUE IDENTIFIER', 'LAST EDITED DATE', 'TAXONOMIC ORDER',\n",
       "       'CATEGORY', 'COMMON NAME', 'SCIENTIFIC NAME', 'SUBSPECIES COMMON NAME',\n",
       "       'SUBSPECIES SCIENTIFIC NAME', 'OBSERVATION COUNT',\n",
       "       'BREEDING BIRD ATLAS CODE', 'BREEDING BIRD ATLAS CATEGORY', 'AGE/SEX',\n",
       "       'COUNTRY', 'COUNTRY CODE', 'STATE', 'STATE CODE', 'COUNTY',\n",
       "       'COUNTY CODE', 'IBA CODE', 'BCR CODE', 'USFWS CODE', 'ATLAS BLOCK',\n",
       "       'LOCALITY', 'LOCALITY ID', 'LOCALITY TYPE', 'LATITUDE', 'LONGITUDE',\n",
       "       'OBSERVATION DATE', 'TIME OBSERVATIONS STARTED', 'OBSERVER ID',\n",
       "       'SAMPLING EVENT IDENTIFIER', 'PROTOCOL TYPE', 'PROTOCOL CODE',\n",
       "       'PROJECT CODE', 'DURATION MINUTES', 'EFFORT DISTANCE KM',\n",
       "       'EFFORT AREA HA', 'NUMBER OBSERVERS', 'ALL SPECIES REPORTED',\n",
       "       'GROUP IDENTIFIER', 'HAS MEDIA', 'APPROVED', 'REVIEWED', 'REASON',\n",
       "       'TRIP COMMENTS', 'SPECIES COMMENTS', 'Unnamed: 46'],\n",
       "      dtype='object')"
      ]
     },
     "execution_count": 10,
     "metadata": {},
     "output_type": "execute_result"
    }
   ],
   "source": [
    "dfAll.columns"
   ]
  },
  {
   "cell_type": "code",
   "execution_count": 12,
   "metadata": {},
   "outputs": [
    {
     "data": {
      "text/plain": [
       "<bound method IndexOpsMixin.value_counts of 0                   Common Redpoll\n",
       "1                   Common Redpoll\n",
       "2                  Red-tailed Hawk\n",
       "3                   Red-eyed Vireo\n",
       "4                      Pine Siskin\n",
       "                    ...           \n",
       "3622790               Song Sparrow\n",
       "3622791    White-breasted Nuthatch\n",
       "3622792               Song Sparrow\n",
       "3622793          Northern Cardinal\n",
       "3622794                     Dunlin\n",
       "Name: COMMON NAME, Length: 3622795, dtype: object>"
      ]
     },
     "execution_count": 12,
     "metadata": {},
     "output_type": "execute_result"
    }
   ],
   "source": [
    "dfAll['COMMON NAME'].value_counts"
   ]
  },
  {
   "cell_type": "code",
   "execution_count": 19,
   "metadata": {},
   "outputs": [
    {
     "data": {
      "text/html": [
       "<div>\n",
       "<style scoped>\n",
       "    .dataframe tbody tr th:only-of-type {\n",
       "        vertical-align: middle;\n",
       "    }\n",
       "\n",
       "    .dataframe tbody tr th {\n",
       "        vertical-align: top;\n",
       "    }\n",
       "\n",
       "    .dataframe thead th {\n",
       "        text-align: right;\n",
       "    }\n",
       "</style>\n",
       "<table border=\"1\" class=\"dataframe\">\n",
       "  <thead>\n",
       "    <tr style=\"text-align: right;\">\n",
       "      <th></th>\n",
       "      <th>COUNTY</th>\n",
       "      <th>COMMON NAME</th>\n",
       "      <th>ALL SPECIES REPORTED</th>\n",
       "    </tr>\n",
       "  </thead>\n",
       "  <tbody>\n",
       "    <tr>\n",
       "      <th>0</th>\n",
       "      <td>Sheboygan</td>\n",
       "      <td>Common Redpoll</td>\n",
       "      <td>1</td>\n",
       "    </tr>\n",
       "    <tr>\n",
       "      <th>1</th>\n",
       "      <td>Dodge</td>\n",
       "      <td>Common Redpoll</td>\n",
       "      <td>1</td>\n",
       "    </tr>\n",
       "    <tr>\n",
       "      <th>2</th>\n",
       "      <td>Lafayette</td>\n",
       "      <td>Red-tailed Hawk</td>\n",
       "      <td>0</td>\n",
       "    </tr>\n",
       "    <tr>\n",
       "      <th>3</th>\n",
       "      <td>Milwaukee</td>\n",
       "      <td>Red-eyed Vireo</td>\n",
       "      <td>1</td>\n",
       "    </tr>\n",
       "    <tr>\n",
       "      <th>4</th>\n",
       "      <td>Milwaukee</td>\n",
       "      <td>Pine Siskin</td>\n",
       "      <td>1</td>\n",
       "    </tr>\n",
       "  </tbody>\n",
       "</table>\n",
       "</div>"
      ],
      "text/plain": [
       "      COUNTY      COMMON NAME  ALL SPECIES REPORTED\n",
       "0  Sheboygan   Common Redpoll                     1\n",
       "1      Dodge   Common Redpoll                     1\n",
       "2  Lafayette  Red-tailed Hawk                     0\n",
       "3  Milwaukee   Red-eyed Vireo                     1\n",
       "4  Milwaukee      Pine Siskin                     1"
      ]
     },
     "execution_count": 19,
     "metadata": {},
     "output_type": "execute_result"
    }
   ],
   "source": [
    "dfProbA = dfAll.filter(['COUNTY','COMMON NAME','ALL SPECIES REPORTED'])\n",
    "dfProbA.head(5)"
   ]
  },
  {
   "cell_type": "code",
   "execution_count": 24,
   "metadata": {},
   "outputs": [],
   "source": [
    "dfProb1 = dfProbA[dfProbA['COMMON NAME']== 'Yellow-rumped Warbler']\n",
    "dfProb1 = dfProb1.groupby(['COUNTY']).sum().filter(['ALL SPECIES REPORTED']).reset_index()\n",
    "dfProb1.rename(columns = {'ALL SPECIES REPORTED':'POS OBS'}, inplace=True)"
   ]
  },
  {
   "cell_type": "code",
   "execution_count": 25,
   "metadata": {},
   "outputs": [
    {
     "data": {
      "text/html": [
       "<div>\n",
       "<style scoped>\n",
       "    .dataframe tbody tr th:only-of-type {\n",
       "        vertical-align: middle;\n",
       "    }\n",
       "\n",
       "    .dataframe tbody tr th {\n",
       "        vertical-align: top;\n",
       "    }\n",
       "\n",
       "    .dataframe thead th {\n",
       "        text-align: right;\n",
       "    }\n",
       "</style>\n",
       "<table border=\"1\" class=\"dataframe\">\n",
       "  <thead>\n",
       "    <tr style=\"text-align: right;\">\n",
       "      <th></th>\n",
       "      <th>COUNTY</th>\n",
       "      <th>POS OBS</th>\n",
       "    </tr>\n",
       "  </thead>\n",
       "  <tbody>\n",
       "    <tr>\n",
       "      <th>0</th>\n",
       "      <td>Adams</td>\n",
       "      <td>78</td>\n",
       "    </tr>\n",
       "    <tr>\n",
       "      <th>1</th>\n",
       "      <td>Ashland</td>\n",
       "      <td>526</td>\n",
       "    </tr>\n",
       "    <tr>\n",
       "      <th>2</th>\n",
       "      <td>Barron</td>\n",
       "      <td>105</td>\n",
       "    </tr>\n",
       "    <tr>\n",
       "      <th>3</th>\n",
       "      <td>Bayfield</td>\n",
       "      <td>830</td>\n",
       "    </tr>\n",
       "    <tr>\n",
       "      <th>4</th>\n",
       "      <td>Brown</td>\n",
       "      <td>476</td>\n",
       "    </tr>\n",
       "  </tbody>\n",
       "</table>\n",
       "</div>"
      ],
      "text/plain": [
       "     COUNTY  POS OBS\n",
       "0     Adams       78\n",
       "1   Ashland      526\n",
       "2    Barron      105\n",
       "3  Bayfield      830\n",
       "4     Brown      476"
      ]
     },
     "execution_count": 25,
     "metadata": {},
     "output_type": "execute_result"
    }
   ],
   "source": [
    "dfProb1.head(5)"
   ]
  },
  {
   "cell_type": "code",
   "execution_count": 26,
   "metadata": {},
   "outputs": [
    {
     "data": {
      "text/html": [
       "<div>\n",
       "<style scoped>\n",
       "    .dataframe tbody tr th:only-of-type {\n",
       "        vertical-align: middle;\n",
       "    }\n",
       "\n",
       "    .dataframe tbody tr th {\n",
       "        vertical-align: top;\n",
       "    }\n",
       "\n",
       "    .dataframe thead th {\n",
       "        text-align: right;\n",
       "    }\n",
       "</style>\n",
       "<table border=\"1\" class=\"dataframe\">\n",
       "  <thead>\n",
       "    <tr style=\"text-align: right;\">\n",
       "      <th></th>\n",
       "      <th>COUNTY</th>\n",
       "      <th>TOT OBS</th>\n",
       "    </tr>\n",
       "  </thead>\n",
       "  <tbody>\n",
       "    <tr>\n",
       "      <th>0</th>\n",
       "      <td>Adams</td>\n",
       "      <td>17304</td>\n",
       "    </tr>\n",
       "    <tr>\n",
       "      <th>1</th>\n",
       "      <td>Ashland</td>\n",
       "      <td>31469</td>\n",
       "    </tr>\n",
       "    <tr>\n",
       "      <th>2</th>\n",
       "      <td>Barron</td>\n",
       "      <td>17976</td>\n",
       "    </tr>\n",
       "    <tr>\n",
       "      <th>3</th>\n",
       "      <td>Bayfield</td>\n",
       "      <td>57521</td>\n",
       "    </tr>\n",
       "    <tr>\n",
       "      <th>4</th>\n",
       "      <td>Brown</td>\n",
       "      <td>72298</td>\n",
       "    </tr>\n",
       "  </tbody>\n",
       "</table>\n",
       "</div>"
      ],
      "text/plain": [
       "     COUNTY  TOT OBS\n",
       "0     Adams    17304\n",
       "1   Ashland    31469\n",
       "2    Barron    17976\n",
       "3  Bayfield    57521\n",
       "4     Brown    72298"
      ]
     },
     "execution_count": 26,
     "metadata": {},
     "output_type": "execute_result"
    }
   ],
   "source": [
    "dfProb2 = dfProbA.groupby(['COUNTY']).sum().filter(['ALL SPECIES REPORTED']).reset_index()\n",
    "dfProb2.rename(columns = {'ALL SPECIES REPORTED':'TOT OBS'}, inplace=True)\n",
    "dfProb2.head(5)"
   ]
  },
  {
   "cell_type": "code",
   "execution_count": 27,
   "metadata": {},
   "outputs": [],
   "source": [
    "dfProb3 = dfProb1.merge(dfProb2, left_on='COUNTY', right_on='COUNTY', how = 'left')\n",
    "dfProb3['POS PROB'] = dfProb3['POS OBS']/dfProb3['TOT OBS']"
   ]
  },
  {
   "cell_type": "code",
   "execution_count": 28,
   "metadata": {},
   "outputs": [
    {
     "data": {
      "text/html": [
       "<div>\n",
       "<style scoped>\n",
       "    .dataframe tbody tr th:only-of-type {\n",
       "        vertical-align: middle;\n",
       "    }\n",
       "\n",
       "    .dataframe tbody tr th {\n",
       "        vertical-align: top;\n",
       "    }\n",
       "\n",
       "    .dataframe thead th {\n",
       "        text-align: right;\n",
       "    }\n",
       "</style>\n",
       "<table border=\"1\" class=\"dataframe\">\n",
       "  <thead>\n",
       "    <tr style=\"text-align: right;\">\n",
       "      <th></th>\n",
       "      <th>COUNTY</th>\n",
       "      <th>POS OBS</th>\n",
       "      <th>TOT OBS</th>\n",
       "      <th>POS PROB</th>\n",
       "    </tr>\n",
       "  </thead>\n",
       "  <tbody>\n",
       "    <tr>\n",
       "      <th>0</th>\n",
       "      <td>Adams</td>\n",
       "      <td>78</td>\n",
       "      <td>17304</td>\n",
       "      <td>0.004508</td>\n",
       "    </tr>\n",
       "    <tr>\n",
       "      <th>1</th>\n",
       "      <td>Ashland</td>\n",
       "      <td>526</td>\n",
       "      <td>31469</td>\n",
       "      <td>0.016715</td>\n",
       "    </tr>\n",
       "    <tr>\n",
       "      <th>2</th>\n",
       "      <td>Barron</td>\n",
       "      <td>105</td>\n",
       "      <td>17976</td>\n",
       "      <td>0.005841</td>\n",
       "    </tr>\n",
       "    <tr>\n",
       "      <th>3</th>\n",
       "      <td>Bayfield</td>\n",
       "      <td>830</td>\n",
       "      <td>57521</td>\n",
       "      <td>0.014430</td>\n",
       "    </tr>\n",
       "    <tr>\n",
       "      <th>4</th>\n",
       "      <td>Brown</td>\n",
       "      <td>476</td>\n",
       "      <td>72298</td>\n",
       "      <td>0.006584</td>\n",
       "    </tr>\n",
       "  </tbody>\n",
       "</table>\n",
       "</div>"
      ],
      "text/plain": [
       "     COUNTY  POS OBS  TOT OBS  POS PROB\n",
       "0     Adams       78    17304  0.004508\n",
       "1   Ashland      526    31469  0.016715\n",
       "2    Barron      105    17976  0.005841\n",
       "3  Bayfield      830    57521  0.014430\n",
       "4     Brown      476    72298  0.006584"
      ]
     },
     "execution_count": 28,
     "metadata": {},
     "output_type": "execute_result"
    }
   ],
   "source": [
    "dfProb3.head(5)"
   ]
  },
  {
   "cell_type": "code",
   "execution_count": 96,
   "metadata": {},
   "outputs": [],
   "source": [
    "countyName = np.array(('Milwaukee', 'Dane', 'Waukesha', 'Brown', 'Racine', 'Bayfield', 'La Crosse', 'Eau Claire'))\n",
    "countyLat = np.array((43.0388, 43.0186, 43.0073, 44.4562, 42.7611, 46.6650, 43.8617, 44.7684))\n",
    "countyLng = np.array((-87.9065, -89.5498, -88.3239, -87.9335, -87.9186, -91.1222, -91.1353, -91.2891))"
   ]
  },
  {
   "cell_type": "code",
   "execution_count": 97,
   "metadata": {},
   "outputs": [],
   "source": [
    "dfLoc = pd.DataFrame(data={'COUNTY': countyName, 'LAT': countyLat, 'LNG':countyLng})"
   ]
  },
  {
   "cell_type": "code",
   "execution_count": 98,
   "metadata": {},
   "outputs": [
    {
     "data": {
      "text/html": [
       "<div>\n",
       "<style scoped>\n",
       "    .dataframe tbody tr th:only-of-type {\n",
       "        vertical-align: middle;\n",
       "    }\n",
       "\n",
       "    .dataframe tbody tr th {\n",
       "        vertical-align: top;\n",
       "    }\n",
       "\n",
       "    .dataframe thead th {\n",
       "        text-align: right;\n",
       "    }\n",
       "</style>\n",
       "<table border=\"1\" class=\"dataframe\">\n",
       "  <thead>\n",
       "    <tr style=\"text-align: right;\">\n",
       "      <th></th>\n",
       "      <th>COUNTY</th>\n",
       "      <th>LAT</th>\n",
       "      <th>LNG</th>\n",
       "    </tr>\n",
       "  </thead>\n",
       "  <tbody>\n",
       "    <tr>\n",
       "      <th>0</th>\n",
       "      <td>Milwaukee</td>\n",
       "      <td>43.0388</td>\n",
       "      <td>-87.9065</td>\n",
       "    </tr>\n",
       "    <tr>\n",
       "      <th>1</th>\n",
       "      <td>Dane</td>\n",
       "      <td>43.0186</td>\n",
       "      <td>-89.5498</td>\n",
       "    </tr>\n",
       "    <tr>\n",
       "      <th>2</th>\n",
       "      <td>Waukesha</td>\n",
       "      <td>43.0073</td>\n",
       "      <td>-88.3239</td>\n",
       "    </tr>\n",
       "    <tr>\n",
       "      <th>3</th>\n",
       "      <td>Brown</td>\n",
       "      <td>44.4562</td>\n",
       "      <td>-87.9335</td>\n",
       "    </tr>\n",
       "    <tr>\n",
       "      <th>4</th>\n",
       "      <td>Racine</td>\n",
       "      <td>42.7611</td>\n",
       "      <td>-87.9186</td>\n",
       "    </tr>\n",
       "    <tr>\n",
       "      <th>5</th>\n",
       "      <td>Bayfield</td>\n",
       "      <td>46.6650</td>\n",
       "      <td>-91.1222</td>\n",
       "    </tr>\n",
       "    <tr>\n",
       "      <th>6</th>\n",
       "      <td>La Crosse</td>\n",
       "      <td>43.8617</td>\n",
       "      <td>-91.1353</td>\n",
       "    </tr>\n",
       "    <tr>\n",
       "      <th>7</th>\n",
       "      <td>Eau Claire</td>\n",
       "      <td>44.7684</td>\n",
       "      <td>-91.2891</td>\n",
       "    </tr>\n",
       "  </tbody>\n",
       "</table>\n",
       "</div>"
      ],
      "text/plain": [
       "       COUNTY      LAT      LNG\n",
       "0   Milwaukee  43.0388 -87.9065\n",
       "1        Dane  43.0186 -89.5498\n",
       "2    Waukesha  43.0073 -88.3239\n",
       "3       Brown  44.4562 -87.9335\n",
       "4      Racine  42.7611 -87.9186\n",
       "5    Bayfield  46.6650 -91.1222\n",
       "6   La Crosse  43.8617 -91.1353\n",
       "7  Eau Claire  44.7684 -91.2891"
      ]
     },
     "execution_count": 98,
     "metadata": {},
     "output_type": "execute_result"
    }
   ],
   "source": [
    "dfLoc"
   ]
  },
  {
   "cell_type": "code",
   "execution_count": 99,
   "metadata": {},
   "outputs": [],
   "source": [
    "dfComb = dfLoc.merge(dfProb3, left_on='COUNTY', right_on='COUNTY')"
   ]
  },
  {
   "cell_type": "code",
   "execution_count": 100,
   "metadata": {},
   "outputs": [
    {
     "data": {
      "text/html": [
       "<div>\n",
       "<style scoped>\n",
       "    .dataframe tbody tr th:only-of-type {\n",
       "        vertical-align: middle;\n",
       "    }\n",
       "\n",
       "    .dataframe tbody tr th {\n",
       "        vertical-align: top;\n",
       "    }\n",
       "\n",
       "    .dataframe thead th {\n",
       "        text-align: right;\n",
       "    }\n",
       "</style>\n",
       "<table border=\"1\" class=\"dataframe\">\n",
       "  <thead>\n",
       "    <tr style=\"text-align: right;\">\n",
       "      <th></th>\n",
       "      <th>COUNTY</th>\n",
       "      <th>LAT</th>\n",
       "      <th>LNG</th>\n",
       "      <th>POS OBS</th>\n",
       "      <th>TOT OBS</th>\n",
       "      <th>POS PROB</th>\n",
       "    </tr>\n",
       "  </thead>\n",
       "  <tbody>\n",
       "    <tr>\n",
       "      <th>0</th>\n",
       "      <td>Milwaukee</td>\n",
       "      <td>43.0388</td>\n",
       "      <td>-87.9065</td>\n",
       "      <td>2949</td>\n",
       "      <td>286978</td>\n",
       "      <td>0.010276</td>\n",
       "    </tr>\n",
       "    <tr>\n",
       "      <th>1</th>\n",
       "      <td>Dane</td>\n",
       "      <td>43.0186</td>\n",
       "      <td>-89.5498</td>\n",
       "      <td>3938</td>\n",
       "      <td>528781</td>\n",
       "      <td>0.007447</td>\n",
       "    </tr>\n",
       "    <tr>\n",
       "      <th>2</th>\n",
       "      <td>Waukesha</td>\n",
       "      <td>43.0073</td>\n",
       "      <td>-88.3239</td>\n",
       "      <td>500</td>\n",
       "      <td>91180</td>\n",
       "      <td>0.005484</td>\n",
       "    </tr>\n",
       "    <tr>\n",
       "      <th>3</th>\n",
       "      <td>Brown</td>\n",
       "      <td>44.4562</td>\n",
       "      <td>-87.9335</td>\n",
       "      <td>476</td>\n",
       "      <td>72298</td>\n",
       "      <td>0.006584</td>\n",
       "    </tr>\n",
       "    <tr>\n",
       "      <th>4</th>\n",
       "      <td>Racine</td>\n",
       "      <td>42.7611</td>\n",
       "      <td>-87.9186</td>\n",
       "      <td>391</td>\n",
       "      <td>52479</td>\n",
       "      <td>0.007451</td>\n",
       "    </tr>\n",
       "    <tr>\n",
       "      <th>5</th>\n",
       "      <td>Bayfield</td>\n",
       "      <td>46.6650</td>\n",
       "      <td>-91.1222</td>\n",
       "      <td>830</td>\n",
       "      <td>57521</td>\n",
       "      <td>0.014430</td>\n",
       "    </tr>\n",
       "    <tr>\n",
       "      <th>6</th>\n",
       "      <td>La Crosse</td>\n",
       "      <td>43.8617</td>\n",
       "      <td>-91.1353</td>\n",
       "      <td>332</td>\n",
       "      <td>45693</td>\n",
       "      <td>0.007266</td>\n",
       "    </tr>\n",
       "    <tr>\n",
       "      <th>7</th>\n",
       "      <td>Eau Claire</td>\n",
       "      <td>44.7684</td>\n",
       "      <td>-91.2891</td>\n",
       "      <td>183</td>\n",
       "      <td>23581</td>\n",
       "      <td>0.007760</td>\n",
       "    </tr>\n",
       "  </tbody>\n",
       "</table>\n",
       "</div>"
      ],
      "text/plain": [
       "       COUNTY      LAT      LNG  POS OBS  TOT OBS  POS PROB\n",
       "0   Milwaukee  43.0388 -87.9065     2949   286978  0.010276\n",
       "1        Dane  43.0186 -89.5498     3938   528781  0.007447\n",
       "2    Waukesha  43.0073 -88.3239      500    91180  0.005484\n",
       "3       Brown  44.4562 -87.9335      476    72298  0.006584\n",
       "4      Racine  42.7611 -87.9186      391    52479  0.007451\n",
       "5    Bayfield  46.6650 -91.1222      830    57521  0.014430\n",
       "6   La Crosse  43.8617 -91.1353      332    45693  0.007266\n",
       "7  Eau Claire  44.7684 -91.2891      183    23581  0.007760"
      ]
     },
     "execution_count": 100,
     "metadata": {},
     "output_type": "execute_result"
    }
   ],
   "source": [
    "dfComb"
   ]
  },
  {
   "cell_type": "markdown",
   "metadata": {},
   "source": [
    "### Now some good plots"
   ]
  },
  {
   "cell_type": "code",
   "execution_count": 124,
   "metadata": {},
   "outputs": [],
   "source": [
    "country = gpd.read_file('./gz_2010_us_040_00_5m.json')\n",
    "state_long = 'Wisconsin'"
   ]
  },
  {
   "cell_type": "code",
   "execution_count": 251,
   "metadata": {},
   "outputs": [
    {
     "data": {
      "image/png": "[encoded data removed]",
      "text/plain": [
       "<Figure size 432x288 with 1 Axes>"
      ]
     },
     "metadata": {
      "needs_background": "light"
     },
     "output_type": "display_data"
    }
   ],
   "source": [
    "# fig, ax = plt.subplots(1, figsize=(7,8))\n",
    "ax = country[country.NAME == state_long].plot(color='white', edgecolor='black')\n",
    "ax.scatter(dfComb['LNG'],dfComb['LAT'], marker = '.', color = 'darkgreen', s= dfComb['POS OBS'])\n",
    "\n",
    "ax.set_ylabel(r'Latitude [$^o$]')\n",
    "ax.set_xlabel(r'Longitude [$^o$]')\n",
    "plt.savefig('./map-prob1.png',dpi=80,bbox_inches='tight', pad_inches=0.02, format = 'png')\n",
    "plt.show()"
   ]
  },
  {
   "cell_type": "code",
   "execution_count": 252,
   "metadata": {},
   "outputs": [
    {
     "data": {
      "image/png": "[encoded data removed]",
      "text/plain": [
       "<Figure size 432x288 with 1 Axes>"
      ]
     },
     "metadata": {
      "needs_background": "light"
     },
     "output_type": "display_data"
    }
   ],
   "source": [
    "ax = country[country.NAME == state_long].plot(\n",
    "    color='white', edgecolor='black')\n",
    "ax.scatter(dfComb['LNG'],dfComb['LAT'], marker = '.', color = 'r', s= dfComb['TOT OBS']/1e2)\n",
    "\n",
    "ax.set_ylabel(r'Latitude [$^o$]')\n",
    "ax.set_xlabel(r'Longitude [$^o$]')\n",
    "\n",
    "plt.savefig('./map-prob2.png',dpi=80,bbox_inches='tight', pad_inches=0.02, format = 'png')\n",
    "\n",
    "plt.show()"
   ]
  },
  {
   "cell_type": "code",
   "execution_count": 253,
   "metadata": {},
   "outputs": [
    {
     "data": {
      "image/png": "[encoded data removed]",
      "text/plain": [
       "<Figure size 432x288 with 1 Axes>"
      ]
     },
     "metadata": {
      "needs_background": "light"
     },
     "output_type": "display_data"
    }
   ],
   "source": [
    "ax = country[country.NAME == state_long].plot(\n",
    "    color='white', edgecolor='black')\n",
    "ax.scatter(dfComb['LNG'],dfComb['LAT'], marker = '.', color = 'teal', s= dfComb['POS PROB']*1e5)\n",
    "\n",
    "ax.set_ylabel(r'Latitude [$^o$]')\n",
    "ax.set_xlabel(r'Longitude [$^o$]')\n",
    "\n",
    "plt.savefig('./map-prob3.png',dpi=80,bbox_inches='tight', pad_inches=0.02, format = 'png')\n",
    "\n",
    "plt.show()"
   ]
  },
  {
   "cell_type": "code",
   "execution_count": 177,
   "metadata": {},
   "outputs": [],
   "source": [
    "countyList = list(countyName)\n",
    "filter1 = dfAll['COUNTY'].isin(['Milwaukee', 'Dane','Waukesha', 'Brown', 'Racine', 'Bayfield', 'La Crosse', 'Eau Claire'])\n",
    "# filter2 = dfAll['COMMON NAME'] == 'Yellow-rumped Warbler'\n",
    "dfTime = dfAll[filter1].filter(['COMMON NAME','COUNTY','OBSERVATION DATE', 'ALL SPECIES REPORTED']) \n",
    "dfTime['OBSERVATION DATE'] = pd.to_datetime(dfTime['OBSERVATION DATE'])\n",
    "dfTime['DAY'] = dfTime['OBSERVATION DATE'].dt.strftime('%j')"
   ]
  },
  {
   "cell_type": "code",
   "execution_count": 178,
   "metadata": {},
   "outputs": [
    {
     "data": {
      "text/html": [
       "<div>\n",
       "<style scoped>\n",
       "    .dataframe tbody tr th:only-of-type {\n",
       "        vertical-align: middle;\n",
       "    }\n",
       "\n",
       "    .dataframe tbody tr th {\n",
       "        vertical-align: top;\n",
       "    }\n",
       "\n",
       "    .dataframe thead th {\n",
       "        text-align: right;\n",
       "    }\n",
       "</style>\n",
       "<table border=\"1\" class=\"dataframe\">\n",
       "  <thead>\n",
       "    <tr style=\"text-align: right;\">\n",
       "      <th></th>\n",
       "      <th>COMMON NAME</th>\n",
       "      <th>COUNTY</th>\n",
       "      <th>OBSERVATION DATE</th>\n",
       "      <th>ALL SPECIES REPORTED</th>\n",
       "      <th>DAY</th>\n",
       "    </tr>\n",
       "  </thead>\n",
       "  <tbody>\n",
       "    <tr>\n",
       "      <th>3</th>\n",
       "      <td>Red-eyed Vireo</td>\n",
       "      <td>Milwaukee</td>\n",
       "      <td>2018-06-07</td>\n",
       "      <td>1</td>\n",
       "      <td>158</td>\n",
       "    </tr>\n",
       "    <tr>\n",
       "      <th>4</th>\n",
       "      <td>Pine Siskin</td>\n",
       "      <td>Milwaukee</td>\n",
       "      <td>2018-08-08</td>\n",
       "      <td>1</td>\n",
       "      <td>220</td>\n",
       "    </tr>\n",
       "    <tr>\n",
       "      <th>6</th>\n",
       "      <td>Mallard</td>\n",
       "      <td>Waukesha</td>\n",
       "      <td>2018-04-24</td>\n",
       "      <td>1</td>\n",
       "      <td>114</td>\n",
       "    </tr>\n",
       "    <tr>\n",
       "      <th>7</th>\n",
       "      <td>Common Redpoll</td>\n",
       "      <td>Dane</td>\n",
       "      <td>2018-02-09</td>\n",
       "      <td>1</td>\n",
       "      <td>040</td>\n",
       "    </tr>\n",
       "    <tr>\n",
       "      <th>10</th>\n",
       "      <td>Mallard</td>\n",
       "      <td>Milwaukee</td>\n",
       "      <td>2018-05-18</td>\n",
       "      <td>1</td>\n",
       "      <td>138</td>\n",
       "    </tr>\n",
       "  </tbody>\n",
       "</table>\n",
       "</div>"
      ],
      "text/plain": [
       "       COMMON NAME     COUNTY OBSERVATION DATE  ALL SPECIES REPORTED  DAY\n",
       "3   Red-eyed Vireo  Milwaukee       2018-06-07                     1  158\n",
       "4      Pine Siskin  Milwaukee       2018-08-08                     1  220\n",
       "6          Mallard   Waukesha       2018-04-24                     1  114\n",
       "7   Common Redpoll       Dane       2018-02-09                     1  040\n",
       "10         Mallard  Milwaukee       2018-05-18                     1  138"
      ]
     },
     "execution_count": 178,
     "metadata": {},
     "output_type": "execute_result"
    }
   ],
   "source": [
    "dfTime.head(5)"
   ]
  },
  {
   "cell_type": "code",
   "execution_count": 189,
   "metadata": {},
   "outputs": [],
   "source": [
    "aa = dfTime[dfTime['COUNTY']=='Eau Claire']"
   ]
  },
  {
   "cell_type": "code",
   "execution_count": 190,
   "metadata": {},
   "outputs": [
    {
     "data": {
      "text/html": [
       "<div>\n",
       "<style scoped>\n",
       "    .dataframe tbody tr th:only-of-type {\n",
       "        vertical-align: middle;\n",
       "    }\n",
       "\n",
       "    .dataframe tbody tr th {\n",
       "        vertical-align: top;\n",
       "    }\n",
       "\n",
       "    .dataframe thead th {\n",
       "        text-align: right;\n",
       "    }\n",
       "</style>\n",
       "<table border=\"1\" class=\"dataframe\">\n",
       "  <thead>\n",
       "    <tr style=\"text-align: right;\">\n",
       "      <th></th>\n",
       "      <th>DAY</th>\n",
       "      <th>ALL SPECIES REPORTED</th>\n",
       "    </tr>\n",
       "  </thead>\n",
       "  <tbody>\n",
       "    <tr>\n",
       "      <th>0</th>\n",
       "      <td>001</td>\n",
       "      <td>113</td>\n",
       "    </tr>\n",
       "    <tr>\n",
       "      <th>1</th>\n",
       "      <td>002</td>\n",
       "      <td>32</td>\n",
       "    </tr>\n",
       "    <tr>\n",
       "      <th>2</th>\n",
       "      <td>003</td>\n",
       "      <td>38</td>\n",
       "    </tr>\n",
       "    <tr>\n",
       "      <th>3</th>\n",
       "      <td>004</td>\n",
       "      <td>23</td>\n",
       "    </tr>\n",
       "    <tr>\n",
       "      <th>4</th>\n",
       "      <td>005</td>\n",
       "      <td>31</td>\n",
       "    </tr>\n",
       "    <tr>\n",
       "      <th>...</th>\n",
       "      <td>...</td>\n",
       "      <td>...</td>\n",
       "    </tr>\n",
       "    <tr>\n",
       "      <th>358</th>\n",
       "      <td>361</td>\n",
       "      <td>65</td>\n",
       "    </tr>\n",
       "    <tr>\n",
       "      <th>359</th>\n",
       "      <td>362</td>\n",
       "      <td>42</td>\n",
       "    </tr>\n",
       "    <tr>\n",
       "      <th>360</th>\n",
       "      <td>363</td>\n",
       "      <td>45</td>\n",
       "    </tr>\n",
       "    <tr>\n",
       "      <th>361</th>\n",
       "      <td>364</td>\n",
       "      <td>13</td>\n",
       "    </tr>\n",
       "    <tr>\n",
       "      <th>362</th>\n",
       "      <td>365</td>\n",
       "      <td>28</td>\n",
       "    </tr>\n",
       "  </tbody>\n",
       "</table>\n",
       "<p>363 rows × 2 columns</p>\n",
       "</div>"
      ],
      "text/plain": [
       "     DAY  ALL SPECIES REPORTED\n",
       "0    001                   113\n",
       "1    002                    32\n",
       "2    003                    38\n",
       "3    004                    23\n",
       "4    005                    31\n",
       "..   ...                   ...\n",
       "358  361                    65\n",
       "359  362                    42\n",
       "360  363                    45\n",
       "361  364                    13\n",
       "362  365                    28\n",
       "\n",
       "[363 rows x 2 columns]"
      ]
     },
     "execution_count": 190,
     "metadata": {},
     "output_type": "execute_result"
    }
   ],
   "source": [
    "aa.groupby(['DAY']).sum().reset_index()"
   ]
  },
  {
   "cell_type": "code",
   "execution_count": 198,
   "metadata": {},
   "outputs": [],
   "source": [
    "dfPos = dfTime[dfTime['COMMON NAME']=='Yellow-rumped Warbler']"
   ]
  },
  {
   "cell_type": "code",
   "execution_count": 199,
   "metadata": {},
   "outputs": [],
   "source": [
    "dfPos= dfPos.groupby(['DAY','COUNTY']).sum()#.reset_index()\n",
    "dfPos.rename(columns = {'ALL SPECIES REPORTED':'POS OBS'}, inplace=True)"
   ]
  },
  {
   "cell_type": "code",
   "execution_count": 200,
   "metadata": {},
   "outputs": [
    {
     "data": {
      "text/html": [
       "<div>\n",
       "<style scoped>\n",
       "    .dataframe tbody tr th:only-of-type {\n",
       "        vertical-align: middle;\n",
       "    }\n",
       "\n",
       "    .dataframe tbody tr th {\n",
       "        vertical-align: top;\n",
       "    }\n",
       "\n",
       "    .dataframe thead th {\n",
       "        text-align: right;\n",
       "    }\n",
       "</style>\n",
       "<table border=\"1\" class=\"dataframe\">\n",
       "  <thead>\n",
       "    <tr style=\"text-align: right;\">\n",
       "      <th></th>\n",
       "      <th></th>\n",
       "      <th>POS OBS</th>\n",
       "    </tr>\n",
       "    <tr>\n",
       "      <th>DAY</th>\n",
       "      <th>COUNTY</th>\n",
       "      <th></th>\n",
       "    </tr>\n",
       "  </thead>\n",
       "  <tbody>\n",
       "    <tr>\n",
       "      <th>001</th>\n",
       "      <th>Dane</th>\n",
       "      <td>1</td>\n",
       "    </tr>\n",
       "    <tr>\n",
       "      <th>005</th>\n",
       "      <th>Brown</th>\n",
       "      <td>1</td>\n",
       "    </tr>\n",
       "    <tr>\n",
       "      <th>006</th>\n",
       "      <th>Waukesha</th>\n",
       "      <td>1</td>\n",
       "    </tr>\n",
       "    <tr>\n",
       "      <th rowspan=\"2\" valign=\"top\">013</th>\n",
       "      <th>Brown</th>\n",
       "      <td>2</td>\n",
       "    </tr>\n",
       "    <tr>\n",
       "      <th>Waukesha</th>\n",
       "      <td>1</td>\n",
       "    </tr>\n",
       "    <tr>\n",
       "      <th>...</th>\n",
       "      <th>...</th>\n",
       "      <td>...</td>\n",
       "    </tr>\n",
       "    <tr>\n",
       "      <th>350</th>\n",
       "      <th>Brown</th>\n",
       "      <td>3</td>\n",
       "    </tr>\n",
       "    <tr>\n",
       "      <th>352</th>\n",
       "      <th>Waukesha</th>\n",
       "      <td>1</td>\n",
       "    </tr>\n",
       "    <tr>\n",
       "      <th>356</th>\n",
       "      <th>Dane</th>\n",
       "      <td>1</td>\n",
       "    </tr>\n",
       "    <tr>\n",
       "      <th>358</th>\n",
       "      <th>Dane</th>\n",
       "      <td>1</td>\n",
       "    </tr>\n",
       "    <tr>\n",
       "      <th>360</th>\n",
       "      <th>Brown</th>\n",
       "      <td>1</td>\n",
       "    </tr>\n",
       "  </tbody>\n",
       "</table>\n",
       "<p>871 rows × 1 columns</p>\n",
       "</div>"
      ],
      "text/plain": [
       "              POS OBS\n",
       "DAY COUNTY           \n",
       "001 Dane            1\n",
       "005 Brown           1\n",
       "006 Waukesha        1\n",
       "013 Brown           2\n",
       "    Waukesha        1\n",
       "...               ...\n",
       "350 Brown           3\n",
       "352 Waukesha        1\n",
       "356 Dane            1\n",
       "358 Dane            1\n",
       "360 Brown           1\n",
       "\n",
       "[871 rows x 1 columns]"
      ]
     },
     "execution_count": 200,
     "metadata": {},
     "output_type": "execute_result"
    }
   ],
   "source": [
    "dfPos"
   ]
  },
  {
   "cell_type": "code",
   "execution_count": 201,
   "metadata": {},
   "outputs": [],
   "source": [
    "dfTot = dfTime.groupby(['DAY','COUNTY']).sum()#.reset_index()\n",
    "dfTot.rename(columns = {'ALL SPECIES REPORTED':'TOT OBS'}, inplace=True)"
   ]
  },
  {
   "cell_type": "code",
   "execution_count": 202,
   "metadata": {},
   "outputs": [
    {
     "data": {
      "text/html": [
       "<div>\n",
       "<style scoped>\n",
       "    .dataframe tbody tr th:only-of-type {\n",
       "        vertical-align: middle;\n",
       "    }\n",
       "\n",
       "    .dataframe tbody tr th {\n",
       "        vertical-align: top;\n",
       "    }\n",
       "\n",
       "    .dataframe thead th {\n",
       "        text-align: right;\n",
       "    }\n",
       "</style>\n",
       "<table border=\"1\" class=\"dataframe\">\n",
       "  <thead>\n",
       "    <tr style=\"text-align: right;\">\n",
       "      <th></th>\n",
       "      <th></th>\n",
       "      <th>TOT OBS</th>\n",
       "    </tr>\n",
       "    <tr>\n",
       "      <th>DAY</th>\n",
       "      <th>COUNTY</th>\n",
       "      <th></th>\n",
       "    </tr>\n",
       "  </thead>\n",
       "  <tbody>\n",
       "    <tr>\n",
       "      <th rowspan=\"5\" valign=\"top\">001</th>\n",
       "      <th>Bayfield</th>\n",
       "      <td>95</td>\n",
       "    </tr>\n",
       "    <tr>\n",
       "      <th>Brown</th>\n",
       "      <td>320</td>\n",
       "    </tr>\n",
       "    <tr>\n",
       "      <th>Dane</th>\n",
       "      <td>2237</td>\n",
       "    </tr>\n",
       "    <tr>\n",
       "      <th>Eau Claire</th>\n",
       "      <td>113</td>\n",
       "    </tr>\n",
       "    <tr>\n",
       "      <th>La Crosse</th>\n",
       "      <td>119</td>\n",
       "    </tr>\n",
       "    <tr>\n",
       "      <th>...</th>\n",
       "      <th>...</th>\n",
       "      <td>...</td>\n",
       "    </tr>\n",
       "    <tr>\n",
       "      <th rowspan=\"5\" valign=\"top\">365</th>\n",
       "      <th>Eau Claire</th>\n",
       "      <td>28</td>\n",
       "    </tr>\n",
       "    <tr>\n",
       "      <th>La Crosse</th>\n",
       "      <td>60</td>\n",
       "    </tr>\n",
       "    <tr>\n",
       "      <th>Milwaukee</th>\n",
       "      <td>193</td>\n",
       "    </tr>\n",
       "    <tr>\n",
       "      <th>Racine</th>\n",
       "      <td>35</td>\n",
       "    </tr>\n",
       "    <tr>\n",
       "      <th>Waukesha</th>\n",
       "      <td>128</td>\n",
       "    </tr>\n",
       "  </tbody>\n",
       "</table>\n",
       "<p>2916 rows × 1 columns</p>\n",
       "</div>"
      ],
      "text/plain": [
       "                TOT OBS\n",
       "DAY COUNTY             \n",
       "001 Bayfield         95\n",
       "    Brown           320\n",
       "    Dane           2237\n",
       "    Eau Claire      113\n",
       "    La Crosse       119\n",
       "...                 ...\n",
       "365 Eau Claire       28\n",
       "    La Crosse        60\n",
       "    Milwaukee       193\n",
       "    Racine           35\n",
       "    Waukesha        128\n",
       "\n",
       "[2916 rows x 1 columns]"
      ]
     },
     "execution_count": 202,
     "metadata": {},
     "output_type": "execute_result"
    }
   ],
   "source": [
    "dfTot"
   ]
  },
  {
   "cell_type": "code",
   "execution_count": 204,
   "metadata": {},
   "outputs": [],
   "source": [
    "dftest = dfPos.merge(dfTot, left_index=True, right_index = True, how = 'outer')"
   ]
  },
  {
   "cell_type": "code",
   "execution_count": 206,
   "metadata": {},
   "outputs": [],
   "source": [
    "dftest[\"POS OBS\"] = dftest[\"POS OBS\"].fillna(0)"
   ]
  },
  {
   "cell_type": "code",
   "execution_count": 208,
   "metadata": {},
   "outputs": [],
   "source": [
    "dftest['POS PROB'] = dftest['POS OBS']/dftest['TOT OBS']"
   ]
  },
  {
   "cell_type": "code",
   "execution_count": 211,
   "metadata": {
    "scrolled": true
   },
   "outputs": [],
   "source": [
    "dftest = dftest.reset_index()"
   ]
  },
  {
   "cell_type": "code",
   "execution_count": 214,
   "metadata": {},
   "outputs": [
    {
     "name": "stderr",
     "output_type": "stream",
     "text": [
      "<ipython-input-214-140b7a09be2f>:1: UserWarning: Boolean Series key will be reindexed to match DataFrame index.\n",
      "  zz = dftest[filter1]\n"
     ]
    }
   ],
   "source": [
    "dftest = dftest[filter1]"
   ]
  },
  {
   "cell_type": "code",
   "execution_count": 224,
   "metadata": {},
   "outputs": [],
   "source": [
    "dftest['DAY'] = pd.to_numeric(dftest['DAY'])"
   ]
  },
  {
   "cell_type": "code",
   "execution_count": null,
   "metadata": {},
   "outputs": [],
   "source": []
  },
  {
   "cell_type": "code",
   "execution_count": 254,
   "metadata": {},
   "outputs": [
    {
     "data": {
      "image/png": "[encoded data removed]",
      "text/plain": [
       "<Figure size 432x288 with 1 Axes>"
      ]
     },
     "metadata": {
      "needs_background": "light"
     },
     "output_type": "display_data"
    }
   ],
   "source": [
    "for place in ['Milwaukee', 'Dane','Waukesha', 'Brown', 'Racine', 'Bayfield', 'La Crosse', 'Eau Claire']:\n",
    "    plt.plot(dftest[dftest['COUNTY'] == place]['DAY'],\n",
    "             dftest[dftest['COUNTY'] == place]['POS PROB'].rolling(7, min_periods=1).mean()*100)\n",
    "    \n",
    "plt.xlabel('Time [days]')\n",
    "plt.ylabel('Probability [%]')\n",
    "plt.savefig('./plot-prob.png',dpi=80,bbox_inches='tight', pad_inches=0.02, format = 'png')\n",
    "plt.show()"
   ]
  },
  {
   "cell_type": "code",
   "execution_count": 255,
   "metadata": {},
   "outputs": [
    {
     "data": {
      "image/png": "[encoded data removed]",
      "text/plain": [
       "<Figure size 432x288 with 1 Axes>"
      ]
     },
     "metadata": {
      "needs_background": "light"
     },
     "output_type": "display_data"
    }
   ],
   "source": [
    "ax = country[country.NAME == state_long].plot(\n",
    "    color='white', edgecolor='black')\n",
    "ax.scatter(dfComb['LNG'],dfComb['LAT'], marker = '.', color = colorlist, s= dfComb['POS PROB']*1e5)\n",
    "\n",
    "ax.set_ylabel(r'Latitude [$^o$]')\n",
    "ax.set_xlabel(r'Longitude [$^o$]')\n",
    "\n",
    "plt.savefig('./map-prob4.png',dpi=80,bbox_inches='tight', pad_inches=0.02, format = 'png')\n",
    "\n",
    "plt.show()"
   ]
  },
  {
   "cell_type": "code",
   "execution_count": 240,
   "metadata": {},
   "outputs": [],
   "source": [
    "colorlist = ['tab:blue','tab:orange','tab:green','tab:red','tab:purple','tab:brown','tab:pink', 'tab:gray']"
   ]
  },
  {
   "cell_type": "markdown",
   "metadata": {},
   "source": [
    "### Clustering using BDSCAN\n",
    "\n",
    "BDSCAN is a density clustering that will tell where is popular for people to go birding (based on the desnity of hotsopts).  I will define a cluster as having atleast 3 point and with a maximum distance of 0.05degrees or about 5km.  With that I will optain where does each hotspot ('LOCALITY') belongs to. If '-1' they are not part of any cluster."
   ]
  },
  {
   "cell_type": "code",
   "execution_count": null,
   "metadata": {},
   "outputs": [],
   "source": [
    "DBScaner.cluster_selection?"
   ]
  },
  {
   "cell_type": "code",
   "execution_count": null,
   "metadata": {},
   "outputs": [],
   "source": [
    "dfcluster, labels, n_clusters_ = DBScaner.cluster_selection(dfTrain, eps=0.02, min_samples=2)"
   ]
  },
  {
   "cell_type": "code",
   "execution_count": null,
   "metadata": {},
   "outputs": [],
   "source": [
    "n_clusters_"
   ]
  },
  {
   "cell_type": "code",
   "execution_count": null,
   "metadata": {},
   "outputs": [],
   "source": [
    "dfcluster.head(5)"
   ]
  },
  {
   "cell_type": "code",
   "execution_count": null,
   "metadata": {},
   "outputs": [],
   "source": [
    "dfCounts = DBScaner.cluster_center(dfcluster, dfTrain)"
   ]
  },
  {
   "cell_type": "code",
   "execution_count": null,
   "metadata": {},
   "outputs": [],
   "source": [
    "dfCounts.head(5)"
   ]
  },
  {
   "cell_type": "markdown",
   "metadata": {},
   "source": [
    "### Now the bird probability.\n",
    "\n",
    "`dfbdscan` have the information of where each of the hotspots lay, in terms of their cluster.  Now in order to constuct a path is important to mask the probabilites of the of seeing a particular bird with T or F on a weekly basis.  This is critical in order to construc the sets."
   ]
  },
  {
   "cell_type": "code",
   "execution_count": null,
   "metadata": {},
   "outputs": [],
   "source": [
    "dfProb = dfTrain.merge(dfcluster.filter(['locality','db_cluster']),\n",
    "                            left_on='locality', right_on='locality', how = 'left').filter(['common_name','all_species_reported','year_week', 'db_cluster'])"
   ]
  },
  {
   "cell_type": "code",
   "execution_count": null,
   "metadata": {},
   "outputs": [],
   "source": []
  },
  {
   "cell_type": "code",
   "execution_count": null,
   "metadata": {},
   "outputs": [],
   "source": []
  },
  {
   "cell_type": "code",
   "execution_count": null,
   "metadata": {},
   "outputs": [],
   "source": []
  },
  {
   "cell_type": "code",
   "execution_count": null,
   "metadata": {},
   "outputs": [],
   "source": []
  },
  {
   "cell_type": "code",
   "execution_count": null,
   "metadata": {},
   "outputs": [],
   "source": []
  },
  {
   "cell_type": "code",
   "execution_count": null,
   "metadata": {},
   "outputs": [],
   "source": []
  },
  {
   "cell_type": "code",
   "execution_count": null,
   "metadata": {},
   "outputs": [],
   "source": []
  },
  {
   "cell_type": "code",
   "execution_count": null,
   "metadata": {},
   "outputs": [],
   "source": []
  },
  {
   "cell_type": "code",
   "execution_count": null,
   "metadata": {},
   "outputs": [],
   "source": [
    "nTime = 54\n",
    "nLoc = n_clusters_\n",
    "setMat = np.empty((nTime,nLoc), dtype=object)"
   ]
  },
  {
   "cell_type": "code",
   "execution_count": null,
   "metadata": {},
   "outputs": [],
   "source": [
    "dfProb[dfProb['common_name'] == 'Mallard']"
   ]
  },
  {
   "cell_type": "code",
   "execution_count": null,
   "metadata": {},
   "outputs": [],
   "source": [
    "for week in range(0,nTime):\n",
    "    dfProbA = dfProb[dfProb['year_week']== week]\n",
    "    dfProb1 = dfProbA.groupby(['common_name','db_cluster']).sum().filter(['all_species_reported']).reset_index()\n",
    "    dfProb1.rename(columns = {'all_species_reported':'pos_obs'}, inplace=True)\n",
    "    dfProb2 = dfProbA.groupby(['db_cluster']).sum().filter(['all_species_reported']).reset_index()\n",
    "    dfProb2.rename(columns = {'all_species_reported':'tot_obs'}, inplace=True)\n",
    "    dfProb3 = dfProb1.merge(dfProb2, left_on='db_cluster', right_on='db_cluster', how = 'left')\n",
    "    dfProb3['pos_prob'] = dfProb3['pos_obs']/dfProb3['tot_obs']\n",
    "    for loc in range(0,nLoc):\n",
    "        dfWeek = dfProb3[dfProb3['db_cluster'] == loc]\n",
    "        dfWeek['tf'] = list(map(lambda x: 0 if x < 0.02 else 1, dfWeek['pos_prob']))\n",
    "        setMat[week,loc] = set(dfWeek[dfWeek['tf'] == 1]['common_name'].values)\n",
    "        "
   ]
  },
  {
   "cell_type": "code",
   "execution_count": null,
   "metadata": {},
   "outputs": [],
   "source": [
    "ToMakeUniverse = list(setMat.flatten())\n",
    "Universe = set(e for s in ToMakeUniverse for e in s)"
   ]
  },
  {
   "cell_type": "code",
   "execution_count": null,
   "metadata": {},
   "outputs": [],
   "source": [
    "userInput = [lat,lng]"
   ]
  },
  {
   "cell_type": "markdown",
   "metadata": {},
   "source": [
    "### Calculating google distances (dist matrix)"
   ]
  },
  {
   "cell_type": "code",
   "execution_count": null,
   "metadata": {},
   "outputs": [],
   "source": [
    "gmaps = googlemaps.Client(key='{}'.format(Definition.GOOGLEKEY))"
   ]
  },
  {
   "cell_type": "code",
   "execution_count": null,
   "metadata": {},
   "outputs": [],
   "source": [
    "coorHotspot = np.empty((n_clusters_+1, 2))\n",
    "coorHotspot[:,0], coorHotspot[:,1] = dfCounts['longitude'],dfCounts['latitude']"
   ]
  },
  {
   "cell_type": "code",
   "execution_count": null,
   "metadata": {},
   "outputs": [],
   "source": [
    "'''\n",
    "Choose between this and the other seccion.  For test, use the other one, it does not use google dist function.\n",
    "'''\n",
    "\n",
    "# distMat = np.empty((nTime,n_clusters_))\n",
    "# countBreak = divmod(n_clusters_,100)\n",
    "\n",
    "# for i in range(0,countBreak[0]):\n",
    "#     distanceMatGmaps = gmaps.distance_matrix(origins = (userInput[0],userInput[1]), \n",
    "#                                          destinations=list(coorHotspot[100*i:100*(i+1)]),\n",
    "#                                          mode = 'driving', units = 'metric')\n",
    "#     for j in range(100*i,100*(i+1)):\n",
    "#         jj = j - 100*i\n",
    "#         try:\n",
    "#             distMat[:,j] = distanceMatGmaps['rows'][0]['elements'][jj]['duration']['value']/3600\n",
    "#         except KeyError:\n",
    "#             distMat[:,j] = 100\n",
    "        \n",
    "# distanceMatGmaps = gmaps.distance_matrix(origins = (userInput[0],userInput[1]), \n",
    "#                                          destinations=list(coorHotspot[countBreak[0]*100:]),\n",
    "#                                          mode = 'driving', units = 'metric')\n",
    "\n",
    "# for j in range(countBreak[0]*100,countBreak[0]*100+countBreak[1]):\n",
    "#     jj = j - countBreak[0]*100\n",
    "#     try:\n",
    "#         distMat[:,j] = distanceMatGmaps['rows'][0]['elements'][jj]['duration']['value']/3600\n",
    "#     except KeyError:\n",
    "#         distMat[:,j] = 100\n",
    "\n",
    "#==========================================================================\n",
    "#==========================================================================\n",
    "#==========================================================================\n",
    "\n",
    "distMat = np.random.rand(nTime*n_clusters_).reshape((nTime,n_clusters_))"
   ]
  },
  {
   "cell_type": "code",
   "execution_count": null,
   "metadata": {},
   "outputs": [],
   "source": [
    "setList, locList = SetCover.set_cover_weighted_greedy(Universe, ToMakeUniverse,list(distMat.flatten()))"
   ]
  },
  {
   "cell_type": "code",
   "execution_count": null,
   "metadata": {},
   "outputs": [],
   "source": [
    "outLoc = Itinerary.location_list_maker(dfCounts,locList, nTime, n_clusters_)"
   ]
  },
  {
   "cell_type": "code",
   "execution_count": null,
   "metadata": {},
   "outputs": [],
   "source": [
    "mapMarkerList = Itinerary.google_map_marker_list(dfCounts, outLoc)"
   ]
  },
  {
   "cell_type": "code",
   "execution_count": null,
   "metadata": {},
   "outputs": [],
   "source": [
    "userOut2 = Itinerary.dic_user_ouput_maker(dfCounts,locList,nTime, nLoc)"
   ]
  },
  {
   "cell_type": "code",
   "execution_count": null,
   "metadata": {},
   "outputs": [],
   "source": [
    "len(setList)"
   ]
  },
  {
   "cell_type": "code",
   "execution_count": null,
   "metadata": {},
   "outputs": [],
   "source": [
    "len(locList)"
   ]
  },
  {
   "cell_type": "code",
   "execution_count": null,
   "metadata": {},
   "outputs": [],
   "source": [
    "def google_map_marker_list(df, locations):\n",
    "    '''\n",
    "    Makes a python list that is use to generate the markers on the live google map.\n",
    "\n",
    "    Arg:\n",
    "        df: The dataframe form DBScaner.cluster_center.  It has the location name, lat, lgn and cluster number.\n",
    "        locations:  The list of unique locations obtain from the set cover.\n",
    "        \n",
    "    Out:\n",
    "        mapMakerList: python list with the form: [[location, latitude, longitue]....[..]]\n",
    "    '''\n",
    "    mapMarkerList = []\n",
    "    for i in locations:\n",
    "        lat = df.loc[df['locality'] == i].iloc[0]['latitude']\n",
    "        lng = df.loc[df['locality'] == i].iloc[0]['longitude']\n",
    "        mapMarkerList.append([i,lat,lng])\n",
    "        \n",
    "    return mapMarkerList\n",
    "\n",
    "\n",
    "def location_list_maker(df, rawLocList, nTime, nLoc):\n",
    "    '''\n",
    "    Uses the raw output form the SetCover.set_cover_weighted_greedy or SetCover.set_cover_greedy methods to obtain the list of unique places that will be visited. The locations are transformed back to a (time,location) configuration and then just o a location format.\n",
    "    \n",
    "    Arg:\n",
    "        rawLocList: Raw locations form the set_cover method.\n",
    "        nTime: The number of time intervals (tipicaly 54)\n",
    "        nLoc: The number of unique total hotspots.\n",
    "        \n",
    "    Out:\n",
    "        outLoc: List of unique locations.\n",
    "    \n",
    "    '''\n",
    "    locMat = np.linspace(1,nTime*nLoc,nTime*nLoc).reshape(nTime,nLoc)\n",
    "    outLoc = set()\n",
    "    for element in sorted(rawLocList):\n",
    "        week,loc = np.where(locMat == element)\n",
    "        outLoc |= set([df.loc[df['db_cluster'] == loc[0]].iloc[0]['locality']])\n",
    "    outLoc = list(outLoc)\n",
    "    return outLoc\n",
    "\n",
    "def dic_user_ouput_maker(df, rawLocList, nTime, nLoc):\n",
    "    '''\n",
    "    Creates the dictionary that will be use to give the user the output it required.  The keys will be the different weeks and the entries the different location as labels.  The locations most likely will not make sence the the user and that is why the will have coordinates.\n",
    "    \n",
    "    Arg:\n",
    "        rawLocList: Raw locations form the set_cover method.\n",
    "        nTime: The number of time intervals (tipicaly 54)\n",
    "        nLoc: The number of unique total hotspots.\n",
    "        \n",
    "    Out:\n",
    "        userOut: dic with keys with the form of: 'week 1' and the values is a list of the different locations to visit.\n",
    "    '''\n",
    "\n",
    "    locMat = np.linspace(1,nTime*nLoc,nTime*nLoc).reshape(nTime,nLoc)\n",
    "\n",
    "    userOut = {}\n",
    "    for element in sorted(rawLocList):\n",
    "        week,loc = np.where(locMat == element)\n",
    "        placeNew = df.loc[df['db_cluster'] == loc[0]].iloc[0]['locality']\n",
    "        key = 'week {}'.format(str(week[0]))\n",
    "        if key in userOut.keys():\n",
    "            placeOld = userOut[key]\n",
    "            placeOld.extend([placeNew])\n",
    "            userOut[key] = placeOld\n",
    "        else:\n",
    "            userOut[key] = [placeNew]\n",
    "            \n",
    "    return userOut\n",
    "\n",
    "def table_creator(dfCounts, locList, setList, nTime, nLoc):\n",
    "    locMat = np.linspace(1,nTime*nLoc,nTime*nLoc).reshape(nTime,nLoc)\n",
    "    numLoc = len(locList)\n",
    "    arrayWeeks = np.empty((numLoc), dtype = int)\n",
    "    arrayLocName = np.empty((numLoc), dtype = object)\n",
    "    arrayBirds = np.empty((numLoc), dtype = object)\n",
    "    arrayLat = np.empty((numLoc))\n",
    "    arrayLng = np.empty((numLoc))\n",
    "    for i, element in enumerate(locList):\n",
    "        week,loc = np.where(locMat == element)\n",
    "        arrayWeeks[i] = int(week[0]+1)\n",
    "        arrayLocName[i] = dfCounts.loc[dfCounts['db_cluster'] == loc[0]].iloc[0]['locality']\n",
    "        arrayLat[i] = dfCounts.loc[dfCounts['db_cluster'] == loc[0]].iloc[0]['latitude']\n",
    "        arrayLng[i] = dfCounts.loc[dfCounts['db_cluster'] == loc[0]].iloc[0]['longitude']\n",
    "        arrayBirds[i] = ', '.join(list(setList[i]))\n",
    "    dataTable = pd.DataFrame({'Week': arrayWeeks,\n",
    "                      'Place': arrayLocName,\n",
    "                      'Birds': arrayBirds,\n",
    "                      'Lat': arrayLat,\n",
    "                      'Lgn': arrayLng})\n",
    "    dataTable.sort_values(by=['Week'], inplace=True)\n",
    "    dataTable = dataTable.reset_index()\n",
    "    dataTable.drop(['index'], axis=1, inplace=True)\n",
    "        \n",
    "    return dataTable"
   ]
  },
  {
   "cell_type": "code",
   "execution_count": null,
   "metadata": {},
   "outputs": [],
   "source": []
  },
  {
   "cell_type": "code",
   "execution_count": null,
   "metadata": {},
   "outputs": [],
   "source": []
  },
  {
   "cell_type": "code",
   "execution_count": null,
   "metadata": {},
   "outputs": [],
   "source": [
    "for i, element in enumerate(locList):\n",
    "    week,loc = np.where(locMat == element)\n",
    "    arrayWeeks[i] = int(week[0]+1)\n",
    "    arrayLocName[i] = dfCounts.loc[dfCounts['db_cluster'] == loc[0]].iloc[0]['locality']\n",
    "    arrayLat[i] = dfCounts.loc[dfCounts['db_cluster'] == loc[0]].iloc[0]['latitude']\n",
    "    arrayLng[i] = dfCounts.loc[dfCounts['db_cluster'] == loc[0]].iloc[0]['longitude']\n",
    "    arrayBirds[i] = ', '.join(list(setList[i]))\n"
   ]
  },
  {
   "cell_type": "code",
   "execution_count": null,
   "metadata": {},
   "outputs": [],
   "source": [
    "dataTable = pd.DataFrame({'Week': arrayWeeks,\n",
    "                          'Place': arrayLocName,\n",
    "                          'Birds': arrayBirds,\n",
    "                          'Lat': arrayLat,\n",
    "                          'Lgn': arrayLng})"
   ]
  },
  {
   "cell_type": "code",
   "execution_count": null,
   "metadata": {},
   "outputs": [],
   "source": [
    "dataTable.sort_values(by=['Week'], inplace=True)"
   ]
  },
  {
   "cell_type": "code",
   "execution_count": null,
   "metadata": {},
   "outputs": [],
   "source": [
    "dataTable = dataTable.reset_index()\n",
    "dataTable.drop(['index'], axis=1, inplace=True)"
   ]
  },
  {
   "cell_type": "code",
   "execution_count": null,
   "metadata": {},
   "outputs": [],
   "source": [
    "dataTable"
   ]
  },
  {
   "cell_type": "code",
   "execution_count": null,
   "metadata": {},
   "outputs": [],
   "source": [
    "dataTable2 = table_creator(dfCounts, locList, setList, nTime, nLoc)"
   ]
  },
  {
   "cell_type": "code",
   "execution_count": null,
   "metadata": {},
   "outputs": [],
   "source": [
    "dataTable2 == dataTable"
   ]
  },
  {
   "cell_type": "code",
   "execution_count": null,
   "metadata": {},
   "outputs": [],
   "source": []
  },
  {
   "cell_type": "code",
   "execution_count": null,
   "metadata": {},
   "outputs": [],
   "source": []
  },
  {
   "cell_type": "code",
   "execution_count": null,
   "metadata": {},
   "outputs": [],
   "source": [
    "from matplotlib.ticker import FuncFormatter\n",
    "import matplotlib.pyplot as plt\n",
    "import numpy as np\n",
    "\n",
    "x = np.arange(4)\n",
    "money = [94604 , 166649, 97718, 253738]\n",
    "\n",
    "def save_fig(name):\n",
    "    fig.savefig(name,dpi=80,bbox_inches='tight', pad_inches=0.02, format = 'png')\n",
    "    \n",
    "def millions(x, pos):\n",
    "    'The two args are the value and tick position'\n",
    "    return '%1.1fk' % (x * 1e-3)\n",
    "\n",
    "\n",
    "formatter = FuncFormatter(millions)\n",
    "\n",
    "fig, ax = plt.subplots()\n",
    "ax.yaxis.set_major_formatter(formatter)\n",
    "plt.bar(x, money)\n",
    "plt.ylabel('Num. Observation')\n",
    "plt.xticks(x, ('Wisconsin', 'Texas', 'Colorado', 'California'))\n",
    "\n",
    "save_fig('./state_obs.png')\n",
    "plt.show()"
   ]
  },
  {
   "cell_type": "code",
   "execution_count": null,
   "metadata": {},
   "outputs": [],
   "source": []
  },
  {
   "cell_type": "code",
   "execution_count": null,
   "metadata": {},
   "outputs": [],
   "source": []
  },
  {
   "cell_type": "code",
   "execution_count": null,
   "metadata": {},
   "outputs": [],
   "source": []
  }
 ],
 "metadata": {
  "kernelspec": {
   "display_name": "Python 3",
   "language": "python",
   "name": "python3"
  },
  "language_info": {
   "codemirror_mode": {
    "name": "ipython",
    "version": 3
   },
   "file_extension": ".py",
   "mimetype": "text/x-python",
   "name": "python",
   "nbconvert_exporter": "python",
   "pygments_lexer": "ipython3",
   "version": "3.8.2"
  }
 },
 "nbformat": 4,
 "nbformat_minor": 2
}
